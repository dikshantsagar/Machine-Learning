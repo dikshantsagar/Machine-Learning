{
 "cells": [
  {
   "cell_type": "markdown",
   "metadata": {},
   "source": [
    "# Single Variable Gradient Descent"
   ]
  },
  {
   "cell_type": "code",
   "execution_count": 6,
   "metadata": {},
   "outputs": [],
   "source": [
    "import numpy as np"
   ]
  },
  {
   "cell_type": "code",
   "execution_count": 17,
   "metadata": {},
   "outputs": [],
   "source": [
    "#calculate cost funtions\n",
    "def cost(x,y,m,b):\n",
    "    return ((y-m*x-b)**2).mean()"
   ]
  },
  {
   "cell_type": "code",
   "execution_count": 18,
   "metadata": {},
   "outputs": [],
   "source": [
    "#calculate gradients and updte m and b values\n",
    "def step_gradient(x,y,learning_rate ,m,b):\n",
    "    k=x.shape[0]\n",
    "    n=m.shape\n",
    "    slope_m=0\n",
    "    slope_b=0\n",
    "    for i in range(k):\n",
    "        #for j in range(n): # for n varibles i.e n features\n",
    "        slope_m+=(2/k)*x[i]*(m*x[i] + b -y[i])\n",
    "        slope_b+=(2/k)*(m*x[i] + b -y[i])\n",
    "    new_m= m - learning_rate*slope_m\n",
    "    new_b= b - learning_rate*slope_b\n",
    "    return new_m,new_b\n",
    "    "
   ]
  },
  {
   "cell_type": "code",
   "execution_count": 36,
   "metadata": {},
   "outputs": [],
   "source": [
    "#running multiple iterations of step gradient\n",
    "def gradient_descent(x,y,learning_rate=0.1, num_iter = 100 , init_m=0 , init_b=0):\n",
    "    m=init_m\n",
    "    b=init_b\n",
    "    print(\"Start : \", cost(x,y,m,b))\n",
    "    for i in range(num_iter):\n",
    "        m,b = step_gradient(x,y,learning_rate ,m,b)\n",
    "        print(i,\" : \", cost(x,y,m,b),\" m= \",m,\"b= \",b)\n",
    "    return (m,b)"
   ]
  },
  {
   "cell_type": "code",
   "execution_count": 61,
   "metadata": {},
   "outputs": [],
   "source": [
    "#data loading and calling gradient discent\n",
    "def run(x,y):\n",
    "    learning_rate=0.01\n",
    "    num_iter=10\n",
    "    m,b=gradient_descent(x,y, learning_rate, num_iter)\n",
    "    print(m, b)\n",
    "    return m,b\n",
    "    "
   ]
  },
  {
   "cell_type": "code",
   "execution_count": 38,
   "metadata": {},
   "outputs": [],
   "source": [
    "from sklearn import datasets\n",
    "import pandas as pd"
   ]
  },
  {
   "cell_type": "code",
   "execution_count": 54,
   "metadata": {},
   "outputs": [],
   "source": [
    "from sklearn.linear_model import LinearRegression"
   ]
  },
  {
   "cell_type": "code",
   "execution_count": 39,
   "metadata": {},
   "outputs": [],
   "source": [
    "boston=datasets.load_boston()"
   ]
  },
  {
   "cell_type": "code",
   "execution_count": 40,
   "metadata": {},
   "outputs": [],
   "source": [
    "y=boston.target"
   ]
  },
  {
   "cell_type": "code",
   "execution_count": 41,
   "metadata": {},
   "outputs": [],
   "source": [
    "x=boston.data[:,0]"
   ]
  },
  {
   "cell_type": "code",
   "execution_count": 42,
   "metadata": {},
   "outputs": [
    {
     "data": {
      "text/plain": [
       "((506,), (506,))"
      ]
     },
     "execution_count": 42,
     "metadata": {},
     "output_type": "execute_result"
    }
   ],
   "source": [
    "x.shape , y.shape"
   ]
  },
  {
   "cell_type": "code",
   "execution_count": 62,
   "metadata": {},
   "outputs": [
    {
     "name": "stdout",
     "output_type": "stream",
     "text": [
      "Start :  592.1469169960474\n",
      "0  :  561.7031995007927  m=  1.0106365086561266 b=  0.4506561264822139\n",
      "1  :  538.1945004209987  m=  0.23696928709295206 b=  0.8196594148672234\n",
      "2  :  518.6831191131948  m=  0.7779123579142079 b=  1.2368901347765338\n",
      "3  :  501.5676788272929  m=  0.35115580429938437 b=  1.6068958411865524\n",
      "4  :  485.97190459069895  m=  0.6375766602995481 b=  2.0001746521831723\n",
      "5  :  471.41308176458165  m=  0.39922723673808497 b=  2.365001326575123\n",
      "6  :  457.622216241623  m=  0.5478284911166764 b=  2.739662883359133\n",
      "7  :  444.4464792859574  m=  0.4119043648157662 b=  3.096150462014266\n",
      "8  :  431.79628459427073  m=  0.48597863883976866 b=  3.4552778647930986\n",
      "9  :  419.6165745532256  m=  0.4058346808065877 b=  3.8018986152020027\n",
      "0.4058346808065877 3.8018986152020027\n"
     ]
    }
   ],
   "source": [
    "m,b=run(x,y)"
   ]
  },
  {
   "cell_type": "code",
   "execution_count": 55,
   "metadata": {},
   "outputs": [],
   "source": [
    "clf=LinearRegression()"
   ]
  },
  {
   "cell_type": "code",
   "execution_count": 57,
   "metadata": {},
   "outputs": [
    {
     "data": {
      "text/plain": [
       "LinearRegression(copy_X=True, fit_intercept=True, n_jobs=1, normalize=False)"
      ]
     },
     "execution_count": 57,
     "metadata": {},
     "output_type": "execute_result"
    }
   ],
   "source": [
    "clf.fit(x.reshape(506,1),y.reshape(506,1))"
   ]
  },
  {
   "cell_type": "code",
   "execution_count": 65,
   "metadata": {},
   "outputs": [],
   "source": [
    "t=clf.predict(y.reshape(506,1))"
   ]
  },
  {
   "cell_type": "code",
   "execution_count": 63,
   "metadata": {},
   "outputs": [],
   "source": [
    "a=y*m+b"
   ]
  },
  {
   "cell_type": "code",
   "execution_count": 73,
   "metadata": {},
   "outputs": [],
   "source": [
    "import math"
   ]
  },
  {
   "cell_type": "code",
   "execution_count": 80,
   "metadata": {},
   "outputs": [
    {
     "data": {
      "text/plain": [
       "31.41619782256943"
      ]
     },
     "execution_count": 80,
     "metadata": {},
     "output_type": "execute_result"
    }
   ],
   "source": [
    "((t-a)**2).mean()"
   ]
  },
  {
   "cell_type": "code",
   "execution_count": 83,
   "metadata": {},
   "outputs": [
    {
     "data": {
      "text/plain": [
       "(16.121274327952296, -20.71614705535087)"
      ]
     },
     "execution_count": 83,
     "metadata": {},
     "output_type": "execute_result"
    }
   ],
   "source": [
    "(t-a).max() , (t-a).min()"
   ]
  },
  {
   "cell_type": "code",
   "execution_count": 86,
   "metadata": {},
   "outputs": [],
   "source": [
    "import matplotlib.pyplot as plt\n"
   ]
  },
  {
   "cell_type": "code",
   "execution_count": 96,
   "metadata": {},
   "outputs": [
    {
     "data": {
      "text/plain": [
       "<matplotlib.collections.PathCollection at 0x1a160e3550>"
      ]
     },
     "execution_count": 96,
     "metadata": {},
     "output_type": "execute_result"
    },
    {
     "data": {
      "image/png": "[encoded data removed]",
      "text/plain": [
       "<Figure size 432x288 with 1 Axes>"
      ]
     },
     "metadata": {},
     "output_type": "display_data"
    }
   ],
   "source": [
    "plt.scatter(x,y)\n",
    "plt.scatter(x,a,color='r')\n",
    "plt.scatter(x,t,color='g')"
   ]
  },
  {
   "cell_type": "markdown",
   "metadata": {},
   "source": [
    "# Multiple Variable Gradient descent"
   ]
  },
  {
   "cell_type": "code",
   "execution_count": 222,
   "metadata": {},
   "outputs": [],
   "source": [
    "#running multiple iterations of step gradient\n",
    "def gradient_descent(x,y,learning_rate=0.1, num_iter = 100 , init_m=0 , init_b=0):\n",
    "    m=np.zeros(x.shape[1])\n",
    "    b=np.zeros(x.shape[1])\n",
    "    print(\"Start : \", cost(x,y,m,b))\n",
    "    for i in range(num_iter):\n",
    "        m,b = step_gradient(x,y,learning_rate ,m,b)\n",
    "        print(i,\" : \", cost(x,y,m,b),\" m= \",m[0],\"b= \",b[0])\n",
    "    return (m,b)"
   ]
  },
  {
   "cell_type": "code",
   "execution_count": 262,
   "metadata": {},
   "outputs": [],
   "source": [
    "#calculate gradients and updte m and b values\n",
    "def step_gradient(x,y,learning_rate ,m,b):\n",
    "    k=x.shape[0]\n",
    "    n=m.shape[0]\n",
    "    slope_m=np.zeros(x.shape[1])\n",
    "    slope_b=np.zeros(x.shape[1])\n",
    "    new_m=np.zeros(x.shape[1])\n",
    "    new_b=np.zeros(x.shape[1])\n",
    "    for i in range(k):\n",
    "        for j in range(n): # for n varibles i.e n features\n",
    "            slope_m[j]+=(2/k)*x[i][j]*(m[j]*x[i][j] + b[j] -y[i])\n",
    "            slope_b[j]+=(2/k)*(m[j]*x[i][j] + b[j] - y[i])\n",
    "    for i in range(n):\n",
    "        new_m[i]= m[i] - learning_rate*slope_m[i]\n",
    "        new_b[i]= b[i] - learning_rate*slope_b[i]\n",
    "    return new_m,new_b\n",
    "    "
   ]
  },
  {
   "cell_type": "code",
   "execution_count": 263,
   "metadata": {},
   "outputs": [],
   "source": [
    "#calculate cost funtions\n",
    "def cost(x,y,m,b):\n",
    "    \n",
    "    costar=np.zeros(x.shape[0])\n",
    "    for i in range(x.shape[0]):\n",
    "        midsum=0\n",
    "        for j in range(x.shape[1]):\n",
    "            midsum+=(m[j]*x[i]+b[j])   # debug this statememt \n",
    "        costar[i]=((y[i]-midsum)**2).mean()\n",
    "            \n",
    "    return costar"
   ]
  },
  {
   "cell_type": "code",
   "execution_count": 264,
   "metadata": {},
   "outputs": [],
   "source": [
    "#data loading and calling gradient discent\n",
    "def run(x,y):\n",
    "    learning_rate=0.00001\n",
    "    num_iter=10\n",
    "    m,b=gradient_descent(x,y, learning_rate, num_iter)\n",
    "    print(m, b)\n",
    "    return m,b\n",
    "    "
   ]
  },
  {
   "cell_type": "code",
   "execution_count": 265,
   "metadata": {},
   "outputs": [],
   "source": [
    "x=boston.data"
   ]
  },
  {
   "cell_type": "code",
   "execution_count": 266,
   "metadata": {},
   "outputs": [
    {
     "data": {
      "text/plain": [
       "(506, 13)"
      ]
     },
     "execution_count": 266,
     "metadata": {},
     "output_type": "execute_result"
    }
   ],
   "source": [
    "x.shape"
   ]
  },
  {
   "cell_type": "code",
   "execution_count": 267,
   "metadata": {},
   "outputs": [],
   "source": [
    "y=boston.target"
   ]
  },
  {
   "cell_type": "code",
   "execution_count": 268,
   "metadata": {},
   "outputs": [
    {
     "name": "stdout",
     "output_type": "stream",
     "text": [
      "Start :  [ 576.    466.56 1204.09 1115.56 1310.44  823.69  524.41  734.41  272.25\n",
      "  357.21  225.    357.21  470.89  416.16  331.24  396.01  533.61  306.25\n",
      "  408.04  331.24  184.96  384.16  231.04  210.25  243.36  193.21  275.56\n",
      "  219.04  338.56  441.    161.29  210.25  174.24  171.61  182.25  357.21\n",
      "  400.    441.    610.09  948.64 1218.01  707.56  640.09  610.09  449.44\n",
      "  372.49  400.    275.56  207.36  376.36  388.09  420.25  625.    547.56\n",
      "  357.21 1253.16  610.09  998.56  542.89  384.16  349.69  256.    492.84\n",
      "  625.   1089.    552.25  376.36  484.    302.76  436.81  585.64  470.89\n",
      "  519.84  547.56  580.81  457.96  400.    432.64  449.44  412.09  784.\n",
      "  571.21  615.04  524.41  571.21  707.56  506.25  492.84  556.96  823.69\n",
      "  510.76  484.    524.41  625.    424.36  806.56  457.96 1497.69 1918.44\n",
      " 1102.24  756.25  702.25  345.96  372.49  404.01  380.25  380.25  416.16\n",
      "  392.04  376.36  470.89  519.84  353.44  349.69  342.25  334.89  449.44\n",
      "  368.64  416.16  372.49  484.    412.09  420.25  299.29  353.44  457.96\n",
      "  246.49  262.44  324.    204.49  368.64  384.16  529.    338.56  243.36\n",
      "  327.61  302.76  292.41  176.89  316.84  196.    207.36  179.56  243.36\n",
      "  139.24  190.44  243.36  213.16  316.84  237.16  462.25  384.16  234.09\n",
      "  376.36  289.    243.36  171.61 1705.69  590.49  542.89  729.   2500.\n",
      " 2500.   2500.    515.29  625.   2500.    566.44  566.44  497.29  302.76\n",
      "  364.81  533.61  556.96  510.76  864.36  538.24  605.16  894.01 1383.84\n",
      " 1584.04 1310.44 1436.41 1056.25  696.96  876.16 2500.   1024.    888.04\n",
      " 1218.01 1369.    930.25 1324.96  967.21  846.81 2500.   1108.89  918.09\n",
      " 1197.16 1218.01 1082.41  580.81 1789.29 2352.25 2500.    510.76  595.36\n",
      "  506.25  595.36  400.    470.89  372.49  501.76  789.61  561.69  625.\n",
      "  542.89  823.69  462.25  529.    712.89  470.89  756.25  906.01 2007.04\n",
      " 2500.   1413.76  998.56 2180.89  992.25  590.49 1004.89 1738.89 2332.89\n",
      "  841.    576.    630.01  992.25  561.69  542.89  484.    404.01  492.84\n",
      "  561.69  309.76  342.25  590.49  420.25  600.25  686.44  595.36  615.04\n",
      "  876.16 1831.84  479.61  436.81 1936.   2500.   1296.    906.01 1142.44\n",
      " 1857.61 2381.44  961.   1332.25  519.84  942.49 2500.   1892.25  428.49\n",
      "  445.21  635.04  595.36 1239.04 1049.76 1024.   1102.24 1095.61  846.81\n",
      " 1232.01 2061.16 1253.16 2116.   2500.   1036.84  484.    404.01  538.24\n",
      "  497.29  615.04  812.25 1391.29  778.41  571.21  470.89  817.96  734.41\n",
      "  412.09  506.25  841.    615.04  484.    696.96 1095.61 1303.21  806.56\n",
      " 1115.56  795.24  519.84  412.09  259.21  488.41  376.36  466.56  566.44\n",
      "  262.44  316.84  392.04  533.61  441.    566.44  533.61  416.16  342.25\n",
      "  625.    605.16  529.    492.84  372.49  510.76  392.04  292.41  376.36\n",
      "  492.84  428.49  445.21  380.25  342.25  424.36  361.    349.69 1069.29\n",
      "  272.25  571.21  973.44  306.25  295.84  533.61  600.25  707.56  524.41\n",
      "  580.81  345.96  906.01  331.24  424.36  316.84  470.89  515.29  510.76\n",
      "  625.    396.01  432.64  282.24  479.61  756.25  479.61  533.61 2500.\n",
      " 2500.   2500.   2500.   2500.    190.44  190.44  225.    193.21  176.89\n",
      "  171.61  104.04  108.16  118.81  127.69  151.29   77.44   51.84  110.25\n",
      "   54.76  104.04  132.25  228.01  538.24   94.09  190.44  161.29  171.61\n",
      "  156.25   72.25   25.     39.69   31.36   51.84  146.41   68.89   72.25\n",
      "   25.    141.61  778.41  295.84  756.25  225.    295.84  320.41  265.69\n",
      "   49.     51.84   56.25  108.16   77.44   70.56  278.89  201.64  432.64\n",
      "  179.56  136.89   68.89  104.04  118.81  121.     90.25  210.25  198.81\n",
      "  259.21  204.49  136.89  179.56   92.16   75.69   70.56  163.84  110.25\n",
      "  292.41  338.56  237.16  116.64  139.24  222.01  158.76  198.81  169.\n",
      "  179.56  231.04  259.21  316.84  222.01  198.81  161.29  182.25  222.01\n",
      "  400.    268.96  313.29  380.25  408.04  457.96  396.01  361.    364.81\n",
      "  364.81  404.01  396.01  384.16  538.24  888.04  190.44  176.89  278.89\n",
      "  144.    213.16  457.96  529.    561.69  625.    475.24  424.36  449.44\n",
      "  364.81  424.36  231.04   49.     65.61  184.96  404.01  475.24  600.25\n",
      "  533.61  388.09  334.89  449.44  306.25  282.24  501.76  424.36  571.21\n",
      "  484.    141.61]\n"
     ]
    },
    {
     "ename": "IndexError",
     "evalue": "index 13 is out of bounds for axis 0 with size 13",
     "output_type": "error",
     "traceback": [
      "\u001b[0;31m---------------------------------------------------------------------------\u001b[0m",
      "\u001b[0;31mIndexError\u001b[0m                                Traceback (most recent call last)",
      "\u001b[0;32m<ipython-input-268-3f40c91c1065>\u001b[0m in \u001b[0;36m<module>\u001b[0;34m()\u001b[0m\n\u001b[0;32m----> 1\u001b[0;31m \u001b[0mm\u001b[0m\u001b[0;34m,\u001b[0m\u001b[0mb\u001b[0m\u001b[0;34m=\u001b[0m\u001b[0mrun\u001b[0m\u001b[0;34m(\u001b[0m\u001b[0mx\u001b[0m\u001b[0;34m,\u001b[0m\u001b[0my\u001b[0m\u001b[0;34m.\u001b[0m\u001b[0mreshape\u001b[0m\u001b[0;34m(\u001b[0m\u001b[0;36m506\u001b[0m\u001b[0;34m,\u001b[0m\u001b[0;36m1\u001b[0m\u001b[0;34m)\u001b[0m\u001b[0;34m)\u001b[0m\u001b[0;34m\u001b[0m\u001b[0m\n\u001b[0m",
      "\u001b[0;32m<ipython-input-264-c1293c07daf4>\u001b[0m in \u001b[0;36mrun\u001b[0;34m(x, y)\u001b[0m\n\u001b[1;32m      3\u001b[0m     \u001b[0mlearning_rate\u001b[0m\u001b[0;34m=\u001b[0m\u001b[0;36m0.00001\u001b[0m\u001b[0;34m\u001b[0m\u001b[0m\n\u001b[1;32m      4\u001b[0m     \u001b[0mnum_iter\u001b[0m\u001b[0;34m=\u001b[0m\u001b[0;36m10\u001b[0m\u001b[0;34m\u001b[0m\u001b[0m\n\u001b[0;32m----> 5\u001b[0;31m     \u001b[0mm\u001b[0m\u001b[0;34m,\u001b[0m\u001b[0mb\u001b[0m\u001b[0;34m=\u001b[0m\u001b[0mgradient_descent\u001b[0m\u001b[0;34m(\u001b[0m\u001b[0mx\u001b[0m\u001b[0;34m,\u001b[0m\u001b[0my\u001b[0m\u001b[0;34m,\u001b[0m \u001b[0mlearning_rate\u001b[0m\u001b[0;34m,\u001b[0m \u001b[0mnum_iter\u001b[0m\u001b[0;34m)\u001b[0m\u001b[0;34m\u001b[0m\u001b[0m\n\u001b[0m\u001b[1;32m      6\u001b[0m     \u001b[0mprint\u001b[0m\u001b[0;34m(\u001b[0m\u001b[0mm\u001b[0m\u001b[0;34m,\u001b[0m \u001b[0mb\u001b[0m\u001b[0;34m)\u001b[0m\u001b[0;34m\u001b[0m\u001b[0m\n\u001b[1;32m      7\u001b[0m     \u001b[0;32mreturn\u001b[0m \u001b[0mm\u001b[0m\u001b[0;34m,\u001b[0m\u001b[0mb\u001b[0m\u001b[0;34m\u001b[0m\u001b[0m\n",
      "\u001b[0;32m<ipython-input-222-30bd0509029f>\u001b[0m in \u001b[0;36mgradient_descent\u001b[0;34m(x, y, learning_rate, num_iter, init_m, init_b)\u001b[0m\n\u001b[1;32m      5\u001b[0m     \u001b[0mprint\u001b[0m\u001b[0;34m(\u001b[0m\u001b[0;34m\"Start : \"\u001b[0m\u001b[0;34m,\u001b[0m \u001b[0mcost\u001b[0m\u001b[0;34m(\u001b[0m\u001b[0mx\u001b[0m\u001b[0;34m,\u001b[0m\u001b[0my\u001b[0m\u001b[0;34m,\u001b[0m\u001b[0mm\u001b[0m\u001b[0;34m,\u001b[0m\u001b[0mb\u001b[0m\u001b[0;34m)\u001b[0m\u001b[0;34m)\u001b[0m\u001b[0;34m\u001b[0m\u001b[0m\n\u001b[1;32m      6\u001b[0m     \u001b[0;32mfor\u001b[0m \u001b[0mi\u001b[0m \u001b[0;32min\u001b[0m \u001b[0mrange\u001b[0m\u001b[0;34m(\u001b[0m\u001b[0mnum_iter\u001b[0m\u001b[0;34m)\u001b[0m\u001b[0;34m:\u001b[0m\u001b[0;34m\u001b[0m\u001b[0m\n\u001b[0;32m----> 7\u001b[0;31m         \u001b[0mm\u001b[0m\u001b[0;34m,\u001b[0m\u001b[0mb\u001b[0m \u001b[0;34m=\u001b[0m \u001b[0mstep_gradient\u001b[0m\u001b[0;34m(\u001b[0m\u001b[0mx\u001b[0m\u001b[0;34m,\u001b[0m\u001b[0my\u001b[0m\u001b[0;34m,\u001b[0m\u001b[0mlearning_rate\u001b[0m \u001b[0;34m,\u001b[0m\u001b[0mm\u001b[0m\u001b[0;34m,\u001b[0m\u001b[0mb\u001b[0m\u001b[0;34m)\u001b[0m\u001b[0;34m\u001b[0m\u001b[0m\n\u001b[0m\u001b[1;32m      8\u001b[0m         \u001b[0mprint\u001b[0m\u001b[0;34m(\u001b[0m\u001b[0mi\u001b[0m\u001b[0;34m,\u001b[0m\u001b[0;34m\" : \"\u001b[0m\u001b[0;34m,\u001b[0m \u001b[0mcost\u001b[0m\u001b[0;34m(\u001b[0m\u001b[0mx\u001b[0m\u001b[0;34m,\u001b[0m\u001b[0my\u001b[0m\u001b[0;34m,\u001b[0m\u001b[0mm\u001b[0m\u001b[0;34m,\u001b[0m\u001b[0mb\u001b[0m\u001b[0;34m)\u001b[0m\u001b[0;34m,\u001b[0m\u001b[0;34m\" m= \"\u001b[0m\u001b[0;34m,\u001b[0m\u001b[0mm\u001b[0m\u001b[0;34m[\u001b[0m\u001b[0;36m0\u001b[0m\u001b[0;34m]\u001b[0m\u001b[0;34m,\u001b[0m\u001b[0;34m\"b= \"\u001b[0m\u001b[0;34m,\u001b[0m\u001b[0mb\u001b[0m\u001b[0;34m[\u001b[0m\u001b[0;36m0\u001b[0m\u001b[0;34m]\u001b[0m\u001b[0;34m)\u001b[0m\u001b[0;34m\u001b[0m\u001b[0m\n\u001b[1;32m      9\u001b[0m     \u001b[0;32mreturn\u001b[0m \u001b[0;34m(\u001b[0m\u001b[0mm\u001b[0m\u001b[0;34m,\u001b[0m\u001b[0mb\u001b[0m\u001b[0;34m)\u001b[0m\u001b[0;34m\u001b[0m\u001b[0m\n",
      "\u001b[0;32m<ipython-input-262-5ec541cce8f0>\u001b[0m in \u001b[0;36mstep_gradient\u001b[0;34m(x, y, learning_rate, m, b)\u001b[0m\n\u001b[1;32m      9\u001b[0m     \u001b[0;32mfor\u001b[0m \u001b[0mj\u001b[0m \u001b[0;32min\u001b[0m \u001b[0mrange\u001b[0m\u001b[0;34m(\u001b[0m\u001b[0mk\u001b[0m\u001b[0;34m)\u001b[0m\u001b[0;34m:\u001b[0m\u001b[0;34m\u001b[0m\u001b[0m\n\u001b[1;32m     10\u001b[0m         \u001b[0;32mfor\u001b[0m \u001b[0mi\u001b[0m \u001b[0;32min\u001b[0m \u001b[0mrange\u001b[0m\u001b[0;34m(\u001b[0m\u001b[0mn\u001b[0m\u001b[0;34m)\u001b[0m\u001b[0;34m:\u001b[0m \u001b[0;31m# for n varibles i.e n features\u001b[0m\u001b[0;34m\u001b[0m\u001b[0m\n\u001b[0;32m---> 11\u001b[0;31m             \u001b[0mslope_m\u001b[0m\u001b[0;34m[\u001b[0m\u001b[0mj\u001b[0m\u001b[0;34m]\u001b[0m\u001b[0;34m+=\u001b[0m\u001b[0;34m(\u001b[0m\u001b[0;36m2\u001b[0m\u001b[0;34m/\u001b[0m\u001b[0mk\u001b[0m\u001b[0;34m)\u001b[0m\u001b[0;34m*\u001b[0m\u001b[0mx\u001b[0m\u001b[0;34m[\u001b[0m\u001b[0mi\u001b[0m\u001b[0;34m]\u001b[0m\u001b[0;34m[\u001b[0m\u001b[0mj\u001b[0m\u001b[0;34m]\u001b[0m\u001b[0;34m*\u001b[0m\u001b[0;34m(\u001b[0m\u001b[0mm\u001b[0m\u001b[0;34m[\u001b[0m\u001b[0mj\u001b[0m\u001b[0;34m]\u001b[0m\u001b[0;34m*\u001b[0m\u001b[0mx\u001b[0m\u001b[0;34m[\u001b[0m\u001b[0mi\u001b[0m\u001b[0;34m]\u001b[0m\u001b[0;34m[\u001b[0m\u001b[0mj\u001b[0m\u001b[0;34m]\u001b[0m \u001b[0;34m+\u001b[0m \u001b[0mb\u001b[0m\u001b[0;34m[\u001b[0m\u001b[0mj\u001b[0m\u001b[0;34m]\u001b[0m \u001b[0;34m-\u001b[0m\u001b[0my\u001b[0m\u001b[0;34m[\u001b[0m\u001b[0mi\u001b[0m\u001b[0;34m]\u001b[0m\u001b[0;34m)\u001b[0m\u001b[0;34m\u001b[0m\u001b[0m\n\u001b[0m\u001b[1;32m     12\u001b[0m             \u001b[0mslope_b\u001b[0m\u001b[0;34m[\u001b[0m\u001b[0mj\u001b[0m\u001b[0;34m]\u001b[0m\u001b[0;34m+=\u001b[0m\u001b[0;34m(\u001b[0m\u001b[0;36m2\u001b[0m\u001b[0;34m/\u001b[0m\u001b[0mk\u001b[0m\u001b[0;34m)\u001b[0m\u001b[0;34m*\u001b[0m\u001b[0;34m(\u001b[0m\u001b[0mm\u001b[0m\u001b[0;34m[\u001b[0m\u001b[0mj\u001b[0m\u001b[0;34m]\u001b[0m\u001b[0;34m*\u001b[0m\u001b[0mx\u001b[0m\u001b[0;34m[\u001b[0m\u001b[0mi\u001b[0m\u001b[0;34m]\u001b[0m\u001b[0;34m[\u001b[0m\u001b[0mj\u001b[0m\u001b[0;34m]\u001b[0m \u001b[0;34m+\u001b[0m \u001b[0mb\u001b[0m\u001b[0;34m[\u001b[0m\u001b[0mj\u001b[0m\u001b[0;34m]\u001b[0m \u001b[0;34m-\u001b[0m\u001b[0my\u001b[0m\u001b[0;34m[\u001b[0m\u001b[0mi\u001b[0m\u001b[0;34m]\u001b[0m\u001b[0;34m)\u001b[0m\u001b[0;34m\u001b[0m\u001b[0m\n\u001b[1;32m     13\u001b[0m     \u001b[0;32mfor\u001b[0m \u001b[0mi\u001b[0m \u001b[0;32min\u001b[0m \u001b[0mrange\u001b[0m\u001b[0;34m(\u001b[0m\u001b[0mn\u001b[0m\u001b[0;34m)\u001b[0m\u001b[0;34m:\u001b[0m\u001b[0;34m\u001b[0m\u001b[0m\n",
      "\u001b[0;31mIndexError\u001b[0m: index 13 is out of bounds for axis 0 with size 13"
     ]
    }
   ],
   "source": [
    "m,b=run(x,y.reshape(506,1))"
   ]
  },
  {
   "cell_type": "code",
   "execution_count": 273,
   "metadata": {},
   "outputs": [],
   "source": [
    "def predict(x,m,b):\n",
    "    temp=np.zeros(x.shape[0])\n",
    "    for i in range(x.shape[0]):\n",
    "        midsum=0\n",
    "        for j in range(x.shape[1]):\n",
    "            midsum+=((m[j]*x[:,j])+b[j])\n",
    "        temp[i]=midsum\n",
    "        \n",
    "    return temp\n",
    "    "
   ]
  },
  {
   "cell_type": "code",
   "execution_count": 274,
   "metadata": {},
   "outputs": [
    {
     "ename": "ValueError",
     "evalue": "setting an array element with a sequence.",
     "output_type": "error",
     "traceback": [
      "\u001b[0;31m---------------------------------------------------------------------------\u001b[0m",
      "\u001b[0;31mValueError\u001b[0m                                Traceback (most recent call last)",
      "\u001b[0;32m<ipython-input-274-3eb52be9f4a0>\u001b[0m in \u001b[0;36m<module>\u001b[0;34m()\u001b[0m\n\u001b[0;32m----> 1\u001b[0;31m \u001b[0mt\u001b[0m\u001b[0;34m=\u001b[0m\u001b[0mpredict\u001b[0m\u001b[0;34m(\u001b[0m\u001b[0mx\u001b[0m\u001b[0;34m,\u001b[0m\u001b[0mm\u001b[0m\u001b[0;34m,\u001b[0m\u001b[0mb\u001b[0m\u001b[0;34m)\u001b[0m\u001b[0;34m\u001b[0m\u001b[0m\n\u001b[0m",
      "\u001b[0;32m<ipython-input-273-61aeec9f12c5>\u001b[0m in \u001b[0;36mpredict\u001b[0;34m(x, m, b)\u001b[0m\n\u001b[1;32m      5\u001b[0m         \u001b[0;32mfor\u001b[0m \u001b[0mj\u001b[0m \u001b[0;32min\u001b[0m \u001b[0mrange\u001b[0m\u001b[0;34m(\u001b[0m\u001b[0mx\u001b[0m\u001b[0;34m.\u001b[0m\u001b[0mshape\u001b[0m\u001b[0;34m[\u001b[0m\u001b[0;36m1\u001b[0m\u001b[0;34m]\u001b[0m\u001b[0;34m)\u001b[0m\u001b[0;34m:\u001b[0m\u001b[0;34m\u001b[0m\u001b[0m\n\u001b[1;32m      6\u001b[0m             \u001b[0mmidsum\u001b[0m\u001b[0;34m+=\u001b[0m\u001b[0;34m(\u001b[0m\u001b[0;34m(\u001b[0m\u001b[0mm\u001b[0m\u001b[0;34m[\u001b[0m\u001b[0mj\u001b[0m\u001b[0;34m]\u001b[0m\u001b[0;34m*\u001b[0m\u001b[0mx\u001b[0m\u001b[0;34m[\u001b[0m\u001b[0;34m:\u001b[0m\u001b[0;34m,\u001b[0m\u001b[0mj\u001b[0m\u001b[0;34m]\u001b[0m\u001b[0;34m)\u001b[0m\u001b[0;34m+\u001b[0m\u001b[0mb\u001b[0m\u001b[0;34m[\u001b[0m\u001b[0mj\u001b[0m\u001b[0;34m]\u001b[0m\u001b[0;34m)\u001b[0m\u001b[0;34m\u001b[0m\u001b[0m\n\u001b[0;32m----> 7\u001b[0;31m         \u001b[0mtemp\u001b[0m\u001b[0;34m[\u001b[0m\u001b[0mi\u001b[0m\u001b[0;34m]\u001b[0m\u001b[0;34m=\u001b[0m\u001b[0mmidsum\u001b[0m\u001b[0;34m\u001b[0m\u001b[0m\n\u001b[0m\u001b[1;32m      8\u001b[0m \u001b[0;34m\u001b[0m\u001b[0m\n\u001b[1;32m      9\u001b[0m     \u001b[0;32mreturn\u001b[0m \u001b[0mtemp\u001b[0m\u001b[0;34m\u001b[0m\u001b[0m\n",
      "\u001b[0;31mValueError\u001b[0m: setting an array element with a sequence."
     ]
    }
   ],
   "source": [
    "t=predict(x,m,b)"
   ]
  },
  {
   "cell_type": "code",
   "execution_count": 275,
   "metadata": {},
   "outputs": [
    {
     "data": {
      "text/plain": [
       "(array([ 1.00264422e-02,  6.27495446e-02,  4.34195349e-02,  3.93408233e-04,\n",
       "         2.40857022e-03,  2.91115287e-02,  1.81233751e-01,  1.80366022e-02,\n",
       "         3.63812493e-02, -1.82900477e+03,  7.86696488e-02, -1.31104462e+01,\n",
       "         4.64572735e-02]),\n",
       " array([ 4.50290243e-03,  4.44039016e-03,  4.46236304e-03,  4.50615325e-03,\n",
       "         4.50603545e-03,  4.48966586e-03,  3.15426782e-03,  4.49999109e-03,\n",
       "         4.47469667e-03, -3.82798770e+00,  4.37382777e-03, -3.43720594e-02,\n",
       "         4.45284163e-03]))"
      ]
     },
     "execution_count": 275,
     "metadata": {},
     "output_type": "execute_result"
    }
   ],
   "source": [
    "m,b"
   ]
  },
  {
   "cell_type": "code",
   "execution_count": 276,
   "metadata": {},
   "outputs": [
    {
     "data": {
      "text/plain": [
       "array([-3.80173674e+08, -3.80173674e+08, -3.80173674e+08, -3.80173674e+08,\n",
       "       -3.80173674e+08, -3.80173674e+08, -3.80173674e+08, -3.80173674e+08,\n",
       "       -3.80173674e+08, -3.80173674e+08, -3.80173674e+08, -3.80173674e+08,\n",
       "       -3.80173674e+08, -3.80173674e+08, -3.80173674e+08, -3.80173674e+08,\n",
       "       -3.80173674e+08, -3.80173674e+08, -3.80173674e+08, -3.80173674e+08,\n",
       "       -3.80173674e+08, -3.80173674e+08, -3.80173674e+08, -3.80173674e+08,\n",
       "       -3.80173674e+08, -3.80173674e+08, -3.80173674e+08, -3.80173674e+08,\n",
       "       -3.80173674e+08, -3.80173674e+08, -3.80173674e+08, -3.80173674e+08,\n",
       "       -3.80173674e+08, -3.80173674e+08, -3.80173674e+08, -3.80173674e+08,\n",
       "       -3.80173674e+08, -3.80173674e+08, -3.80173674e+08, -3.80173674e+08,\n",
       "       -3.80173674e+08, -3.80173674e+08, -3.80173674e+08, -3.80173674e+08,\n",
       "       -3.80173674e+08, -3.80173674e+08, -3.80173674e+08, -3.80173674e+08,\n",
       "       -3.80173674e+08, -3.80173674e+08, -3.80173674e+08, -3.80173674e+08,\n",
       "       -3.80173674e+08, -3.80173674e+08, -3.80173674e+08, -3.80173674e+08,\n",
       "       -3.80173674e+08, -3.80173674e+08, -3.80173674e+08, -3.80173674e+08,\n",
       "       -3.80173674e+08, -3.80173674e+08, -3.80173674e+08, -3.80173674e+08,\n",
       "       -3.80173674e+08, -3.80173674e+08, -3.80173674e+08, -3.80173674e+08,\n",
       "       -3.80173674e+08, -3.80173674e+08, -3.80173674e+08, -3.80173674e+08,\n",
       "       -3.80173674e+08, -3.80173674e+08, -3.80173674e+08, -3.80173674e+08,\n",
       "       -3.80173674e+08, -3.80173674e+08, -3.80173674e+08, -3.80173674e+08,\n",
       "       -3.80173674e+08, -3.80173674e+08, -3.80173674e+08, -3.80173674e+08,\n",
       "       -3.80173674e+08, -3.80173674e+08, -3.80173674e+08, -3.80173674e+08,\n",
       "       -3.80173674e+08, -3.80173674e+08, -3.80173674e+08, -3.80173674e+08,\n",
       "       -3.80173674e+08, -3.80173674e+08, -3.80173674e+08, -3.80173674e+08,\n",
       "       -3.80173674e+08, -3.80173674e+08, -3.80173674e+08, -3.80173674e+08,\n",
       "       -3.80173674e+08, -3.80173674e+08, -3.80173674e+08, -3.80173674e+08,\n",
       "       -3.80173674e+08, -3.80173674e+08, -3.80173674e+08, -3.80173674e+08,\n",
       "       -3.80173674e+08, -3.80173674e+08, -3.80173674e+08, -3.80173674e+08,\n",
       "       -3.80173674e+08, -3.80173674e+08, -3.80173674e+08, -3.80173674e+08,\n",
       "       -3.80173674e+08, -3.80173674e+08, -3.80173674e+08, -3.80173674e+08,\n",
       "       -3.80173674e+08, -3.80173674e+08, -3.80173674e+08, -3.80173674e+08,\n",
       "       -3.80173674e+08, -3.80173674e+08, -3.80173674e+08, -3.80173674e+08,\n",
       "       -3.80173674e+08, -3.80173674e+08, -3.80173674e+08, -3.80173674e+08,\n",
       "       -3.80173674e+08, -3.80173674e+08, -3.80173674e+08, -3.80173674e+08,\n",
       "       -3.80173674e+08, -3.80173674e+08, -3.80173674e+08, -3.80173674e+08,\n",
       "       -3.80173674e+08, -3.80173674e+08, -3.80173674e+08, -3.80173674e+08,\n",
       "       -3.80173674e+08, -3.80173674e+08, -3.80173674e+08, -3.80173674e+08,\n",
       "       -3.80173674e+08, -3.80173674e+08, -3.80173674e+08, -3.80173674e+08,\n",
       "       -3.80173674e+08, -3.80173674e+08, -3.80173674e+08, -3.80173674e+08,\n",
       "       -3.80173674e+08, -3.80173674e+08, -3.80173674e+08, -3.80173674e+08,\n",
       "       -3.80173674e+08, -3.80173674e+08, -3.80173674e+08, -3.80173674e+08,\n",
       "       -3.80173674e+08, -3.80173674e+08, -3.80173674e+08, -3.80173674e+08,\n",
       "       -3.80173674e+08, -3.80173674e+08, -3.80173674e+08, -3.80173674e+08,\n",
       "       -3.80173674e+08, -3.80173674e+08, -3.80173674e+08, -3.80173674e+08,\n",
       "       -3.80173674e+08, -3.80173674e+08, -3.80173674e+08, -3.80173674e+08,\n",
       "       -3.80173674e+08, -3.80173674e+08, -3.80173674e+08, -3.80173674e+08,\n",
       "       -3.80173674e+08, -3.80173674e+08, -3.80173674e+08, -3.80173674e+08,\n",
       "       -3.80173674e+08, -3.80173674e+08, -3.80173674e+08, -3.80173674e+08,\n",
       "       -3.80173674e+08, -3.80173674e+08, -3.80173674e+08, -3.80173674e+08,\n",
       "       -3.80173674e+08, -3.80173674e+08, -3.80173674e+08, -3.80173674e+08,\n",
       "       -3.80173674e+08, -3.80173674e+08, -3.80173674e+08, -3.80173674e+08,\n",
       "       -3.80173674e+08, -3.80173674e+08, -3.80173674e+08, -3.80173674e+08,\n",
       "       -3.80173674e+08, -3.80173674e+08, -3.80173674e+08, -3.80173674e+08,\n",
       "       -3.80173674e+08, -3.80173674e+08, -3.80173674e+08, -3.80173674e+08,\n",
       "       -3.80173674e+08, -3.80173674e+08, -3.80173674e+08, -3.80173674e+08,\n",
       "       -3.80173674e+08, -3.80173674e+08, -3.80173674e+08, -3.80173674e+08,\n",
       "       -3.80173674e+08, -3.80173674e+08, -3.80173674e+08, -3.80173674e+08,\n",
       "       -3.80173674e+08, -3.80173674e+08, -3.80173674e+08, -3.80173674e+08,\n",
       "       -3.80173674e+08, -3.80173674e+08, -3.80173674e+08, -3.80173674e+08,\n",
       "       -3.80173674e+08, -3.80173674e+08, -3.80173674e+08, -3.80173674e+08,\n",
       "       -3.80173674e+08, -3.80173674e+08, -3.80173674e+08, -3.80173674e+08,\n",
       "       -3.80173674e+08, -3.80173674e+08, -3.80173674e+08, -3.80173674e+08,\n",
       "       -3.80173674e+08, -3.80173674e+08, -3.80173674e+08, -3.80173674e+08,\n",
       "       -3.80173674e+08, -3.80173674e+08, -3.80173674e+08, -3.80173674e+08,\n",
       "       -3.80173674e+08, -3.80173674e+08, -3.80173674e+08, -3.80173674e+08,\n",
       "       -3.80173674e+08, -3.80173674e+08, -3.80173674e+08, -3.80173674e+08,\n",
       "       -3.80173674e+08, -3.80173674e+08, -3.80173674e+08, -3.80173674e+08,\n",
       "       -3.80173674e+08, -3.80173674e+08, -3.80173674e+08, -3.80173674e+08,\n",
       "       -3.80173674e+08, -3.80173674e+08, -3.80173674e+08, -3.80173674e+08,\n",
       "       -3.80173674e+08, -3.80173674e+08, -3.80173674e+08, -3.80173674e+08,\n",
       "       -3.80173674e+08, -3.80173674e+08, -3.80173674e+08, -3.80173674e+08,\n",
       "       -3.80173674e+08, -3.80173674e+08, -3.80173674e+08, -3.80173674e+08,\n",
       "       -3.80173674e+08, -3.80173674e+08, -3.80173674e+08, -3.80173674e+08,\n",
       "       -3.80173674e+08, -3.80173674e+08, -3.80173674e+08, -3.80173674e+08,\n",
       "       -3.80173674e+08, -3.80173674e+08, -3.80173674e+08, -3.80173674e+08,\n",
       "       -3.80173674e+08, -3.80173674e+08, -3.80173674e+08, -3.80173674e+08,\n",
       "       -3.80173674e+08, -3.80173674e+08, -3.80173674e+08, -3.80173674e+08,\n",
       "       -3.80173674e+08, -3.80173674e+08, -3.80173674e+08, -3.80173674e+08,\n",
       "       -3.80173674e+08, -3.80173674e+08, -3.80173674e+08, -3.80173674e+08,\n",
       "       -3.80173674e+08, -3.80173674e+08, -3.80173674e+08, -3.80173674e+08,\n",
       "       -3.80173674e+08, -3.80173674e+08, -3.80173674e+08, -3.80173674e+08,\n",
       "       -3.80173674e+08, -3.80173674e+08, -3.80173674e+08, -3.80173674e+08,\n",
       "       -3.80173674e+08, -3.80173674e+08, -3.80173674e+08, -3.80173674e+08,\n",
       "       -3.80173674e+08, -3.80173674e+08, -3.80173674e+08, -3.80173674e+08,\n",
       "       -3.80173674e+08, -3.80173674e+08, -3.80173674e+08, -3.80173674e+08,\n",
       "       -3.80173674e+08, -3.80173674e+08, -3.80173674e+08, -3.80173674e+08,\n",
       "       -3.80173674e+08, -3.80173674e+08, -3.80173674e+08, -3.80173674e+08,\n",
       "       -3.80173674e+08, -3.80173674e+08, -3.80173674e+08, -3.80173674e+08,\n",
       "       -3.80173674e+08, -3.80173674e+08, -3.80173674e+08, -3.80173674e+08,\n",
       "       -3.80173674e+08, -3.80173674e+08, -3.80173674e+08, -3.80173674e+08,\n",
       "       -3.80173674e+08, -3.80173674e+08, -3.80173674e+08, -3.80173674e+08,\n",
       "       -3.80173674e+08, -3.80173674e+08, -3.80173674e+08, -3.80173674e+08,\n",
       "       -3.80173674e+08, -3.80173674e+08, -3.80173674e+08, -3.80173674e+08,\n",
       "       -3.80173674e+08, -3.80173674e+08, -3.80173674e+08, -3.80173674e+08,\n",
       "       -3.80173674e+08, -3.80173674e+08, -3.80173674e+08, -3.80173674e+08,\n",
       "       -3.80173674e+08, -3.80173674e+08, -3.80173674e+08, -3.80173674e+08,\n",
       "       -3.80173674e+08, -3.80173674e+08, -3.80173674e+08, -3.80173674e+08,\n",
       "       -3.80173674e+08, -3.80173674e+08, -3.80173674e+08, -3.80173674e+08,\n",
       "       -3.80173674e+08, -3.80173674e+08, -3.80173674e+08, -3.80173674e+08,\n",
       "       -3.80173674e+08, -3.80173674e+08, -3.80173674e+08, -3.80173674e+08,\n",
       "       -3.80173674e+08, -3.80173674e+08, -3.80173674e+08, -3.80173674e+08,\n",
       "       -3.80173674e+08, -3.80173674e+08, -3.80173674e+08, -3.80173674e+08,\n",
       "       -3.80173674e+08, -3.80173674e+08, -3.80173674e+08, -3.80173674e+08,\n",
       "       -3.80173674e+08, -3.80173674e+08, -3.80173674e+08, -3.80173674e+08,\n",
       "       -3.80173674e+08, -3.80173674e+08, -3.80173674e+08, -3.80173674e+08,\n",
       "       -3.80173674e+08, -3.80173674e+08, -3.80173674e+08, -3.80173674e+08,\n",
       "       -3.80173674e+08, -3.80173674e+08, -3.80173674e+08, -3.80173674e+08,\n",
       "       -3.80173674e+08, -3.80173674e+08, -3.80173674e+08, -3.80173674e+08,\n",
       "       -3.80173674e+08, -3.80173674e+08, -3.80173674e+08, -3.80173674e+08,\n",
       "       -3.80173674e+08, -3.80173674e+08, -3.80173674e+08, -3.80173674e+08,\n",
       "       -3.80173674e+08, -3.80173674e+08, -3.80173674e+08, -3.80173674e+08,\n",
       "       -3.80173674e+08, -3.80173674e+08, -3.80173674e+08, -3.80173674e+08,\n",
       "       -3.80173674e+08, -3.80173674e+08, -3.80173674e+08, -3.80173674e+08,\n",
       "       -3.80173674e+08, -3.80173674e+08, -3.80173674e+08, -3.80173674e+08,\n",
       "       -3.80173674e+08, -3.80173674e+08, -3.80173674e+08, -3.80173674e+08,\n",
       "       -3.80173674e+08, -3.80173674e+08, -3.80173674e+08, -3.80173674e+08,\n",
       "       -3.80173674e+08, -3.80173674e+08, -3.80173674e+08, -3.80173674e+08,\n",
       "       -3.80173674e+08, -3.80173674e+08, -3.80173674e+08, -3.80173674e+08,\n",
       "       -3.80173674e+08, -3.80173674e+08, -3.80173674e+08, -3.80173674e+08,\n",
       "       -3.80173674e+08, -3.80173674e+08, -3.80173674e+08, -3.80173674e+08,\n",
       "       -3.80173674e+08, -3.80173674e+08, -3.80173674e+08, -3.80173674e+08,\n",
       "       -3.80173674e+08, -3.80173674e+08, -3.80173674e+08, -3.80173674e+08,\n",
       "       -3.80173674e+08, -3.80173674e+08, -3.80173674e+08, -3.80173674e+08,\n",
       "       -3.80173674e+08, -3.80173674e+08, -3.80173674e+08, -3.80173674e+08,\n",
       "       -3.80173674e+08, -3.80173674e+08, -3.80173674e+08, -3.80173674e+08,\n",
       "       -3.80173674e+08, -3.80173674e+08, -3.80173674e+08, -3.80173674e+08,\n",
       "       -3.80173674e+08, -3.80173674e+08])"
      ]
     },
     "execution_count": 276,
     "metadata": {},
     "output_type": "execute_result"
    }
   ],
   "source": [
    "t"
   ]
  },
  {
   "cell_type": "code",
   "execution_count": null,
   "metadata": {},
   "outputs": [],
   "source": []
  },
  {
   "cell_type": "code",
   "execution_count": null,
   "metadata": {},
   "outputs": [],
   "source": []
  }
 ],
 "metadata": {
  "kernelspec": {
   "display_name": "Python 3",
   "language": "python",
   "name": "python3"
  },
  "language_info": {
   "codemirror_mode": {
    "name": "ipython",
    "version": 3
   },
   "file_extension": ".py",
   "mimetype": "text/x-python",
   "name": "python",
   "nbconvert_exporter": "python",
   "pygments_lexer": "ipython3",
   "version": "3.6.5"
  }
 },
 "nbformat": 4,
 "nbformat_minor": 2
}
