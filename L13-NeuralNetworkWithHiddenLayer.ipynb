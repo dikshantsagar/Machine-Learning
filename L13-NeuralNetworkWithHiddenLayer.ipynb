{
 "cells": [
  {
   "cell_type": "code",
   "execution_count": 53,
   "metadata": {},
   "outputs": [],
   "source": [
    "import numpy as np"
   ]
  },
  {
   "cell_type": "code",
   "execution_count": 54,
   "metadata": {},
   "outputs": [],
   "source": [
    "def sigmoid(z):\n",
    "    return 1/(1+np.exp(-z))   #Activation Function"
   ]
  },
  {
   "cell_type": "code",
   "execution_count": 55,
   "metadata": {},
   "outputs": [],
   "source": [
    "def derivsigmoid(z):\n",
    "    return sigmoid(z)*(1-sigmoid(z))"
   ]
  },
  {
   "cell_type": "code",
   "execution_count": 79,
   "metadata": {},
   "outputs": [
    {
     "data": {
      "text/plain": [
       "((4, 2), (4, 1))"
      ]
     },
     "execution_count": 79,
     "metadata": {},
     "output_type": "execute_result"
    }
   ],
   "source": [
    "x=np.array([[0,0],[0,1],[1,0],[1,1]])\n",
    "y=np.array([[0,1,1,0]]).T\n",
    "x.shape, y.shape"
   ]
  },
  {
   "cell_type": "code",
   "execution_count": 82,
   "metadata": {},
   "outputs": [],
   "source": [
    "wh=2 * np.random.random((2,2)) -1\n",
    "wout= 2 * np.random.random((2,1)) -1\n",
    "bh = 2 * np.random.random((1,2)) -1\n",
    "bout = 2 * np.random.random((1,1)) -1"
   ]
  },
  {
   "cell_type": "code",
   "execution_count": 75,
   "metadata": {},
   "outputs": [],
   "source": [
    "def forward(x,wh,wout,bh,bout):\n",
    "    output0=x\n",
    "    hidden_layer_input=np.dot(output0,wh) + bh\n",
    "    hidden_layer_out=sigmoid(hidden_layer_input)\n",
    "    \n",
    "    output_layer_input = np.dot(hidden_layer_out,wout) +bout\n",
    "    final_output = sigmoid(output_layer_input)\n",
    "    return final_output"
   ]
  },
  {
   "cell_type": "code",
   "execution_count": 83,
   "metadata": {},
   "outputs": [],
   "source": [
    "def train(x,y,wh,wout,bh,bout,epochs,lr):\n",
    "    for i in range(epochs):\n",
    "        output0=x\n",
    "        hidden_layer_input=np.dot(output0,wh) + bh\n",
    "        hidden_layer_out=sigmoid(hidden_layer_input)\n",
    "\n",
    "        output_layer_input = np.dot(hidden_layer_out,wout) +bout\n",
    "        final_output = sigmoid(output_layer_input)\n",
    "\n",
    "        # Back Propagating \n",
    "        \n",
    "        first_term_output = final_output - y\n",
    "        second_term_output = derivsigmoid(output_layer_input)\n",
    "        first_two_terms_output = first_term_output * second_term_output      #output layer\n",
    "        \n",
    "        first_term_hidden = np.dot(first_two_terms_output , wout.T)          #hidden layer\n",
    "        second_term_hidden = derivsigmoid(hidden_layer_input)\n",
    "        first_two_terms_hidden = first_term_hidden * second_term_hidden\n",
    "        \n",
    "        changes_wh= np.dot(output0.T,first_two_terms_hidden)\n",
    "        changes_wout=np.dot(hidden_layer_out.T,first_two_terms_output) \n",
    "        \n",
    "        changes_bh = np.sum(first_two_terms_hidden , axis = 0)\n",
    "        changes_bout = np.sum(first_two_terms_output , axis = 0)\n",
    "        \n",
    "        wh=wh-lr*changes_wh\n",
    "        wout= wout - lr*changes_wout\n",
    "        \n",
    "        bh=bh - lr*changes_bh\n",
    "        bout = bout - lr*changes_bout\n",
    "        \n",
    "    return wh , wout , bh , bout\n",
    "\n",
    "        \n",
    "        \n",
    "    "
   ]
  },
  {
   "cell_type": "code",
   "execution_count": 84,
   "metadata": {},
   "outputs": [],
   "source": [
    "wh , wout , bh , bout = train(x,y,wh,wout,bh,bout,1000,3)"
   ]
  },
  {
   "cell_type": "code",
   "execution_count": 85,
   "metadata": {},
   "outputs": [
    {
     "data": {
      "text/plain": [
       "array([[0.02843564],\n",
       "       [0.97539797],\n",
       "       [0.97539758],\n",
       "       [0.0252155 ]])"
      ]
     },
     "execution_count": 85,
     "metadata": {},
     "output_type": "execute_result"
    }
   ],
   "source": [
    "forward(x,wh , wout , bh , bout)"
   ]
  },
  {
   "cell_type": "code",
   "execution_count": null,
   "metadata": {},
   "outputs": [],
   "source": []
  }
 ],
 "metadata": {
  "kernelspec": {
   "display_name": "Python 3",
   "language": "python",
   "name": "python3"
  },
  "language_info": {
   "codemirror_mode": {
    "name": "ipython",
    "version": 3
   },
   "file_extension": ".py",
   "mimetype": "text/x-python",
   "name": "python",
   "nbconvert_exporter": "python",
   "pygments_lexer": "ipython3",
   "version": "3.6.5"
  }
 },
 "nbformat": 4,
 "nbformat_minor": 2
}
