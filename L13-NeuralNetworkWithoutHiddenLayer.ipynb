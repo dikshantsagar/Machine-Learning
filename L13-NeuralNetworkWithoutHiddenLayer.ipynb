{
 "cells": [
  {
   "cell_type": "markdown",
   "metadata": {},
   "source": [
    "# Forward Propagation"
   ]
  },
  {
   "cell_type": "code",
   "execution_count": 103,
   "metadata": {},
   "outputs": [],
   "source": [
    "import numpy as np"
   ]
  },
  {
   "cell_type": "code",
   "execution_count": 104,
   "metadata": {},
   "outputs": [],
   "source": [
    "x=np.array([[1,0,0],[1,0,1],[1,1,0],[1,1,1]])\n",
    "y=np.array([[0,0,0,1]]).T"
   ]
  },
  {
   "cell_type": "code",
   "execution_count": 105,
   "metadata": {},
   "outputs": [],
   "source": [
    "def sigmoid(z):\n",
    "    return 1/(1+np.exp(-z))    "
   ]
  },
  {
   "cell_type": "code",
   "execution_count": 106,
   "metadata": {},
   "outputs": [],
   "source": [
    "def derivsigmoid(z):\n",
    "    return sigmoid(z)*(1-sigmoid(z))"
   ]
  },
  {
   "cell_type": "code",
   "execution_count": 107,
   "metadata": {},
   "outputs": [
    {
     "data": {
      "text/plain": [
       "array([[ 0.58484297],\n",
       "       [-0.27047036],\n",
       "       [-0.90994273]])"
      ]
     },
     "execution_count": 107,
     "metadata": {},
     "output_type": "execute_result"
    }
   ],
   "source": [
    "weights=2*np.random.random((3,1)) -1\n",
    "weights"
   ]
  },
  {
   "cell_type": "code",
   "execution_count": 108,
   "metadata": {},
   "outputs": [],
   "source": [
    "def forward(x,weights):\n",
    "    output0 = x\n",
    "    input_o=np.dot(output0,weights)\n",
    "    output1 = sigmoid(input_o)\n",
    "    return output1"
   ]
  },
  {
   "cell_type": "code",
   "execution_count": 109,
   "metadata": {},
   "outputs": [
    {
     "data": {
      "text/plain": [
       "array([[0.64218101],\n",
       "       [0.4194334 ],\n",
       "       [0.57795221],\n",
       "       [0.35535783]])"
      ]
     },
     "execution_count": 109,
     "metadata": {},
     "output_type": "execute_result"
    }
   ],
   "source": [
    "forward(x,weights)"
   ]
  },
  {
   "cell_type": "code",
   "execution_count": 110,
   "metadata": {},
   "outputs": [],
   "source": [
    "def train(x,y,weights,lr):\n",
    "    for i in range(1000):\n",
    "        output0 = x\n",
    "        input_o=np.dot(output0,weights)\n",
    "        output1 = sigmoid(input_o)\n",
    "        \n",
    "        first_term=(output1-y)\n",
    "        second_term=derivsigmoid(input_o)\n",
    "        firsttwoterms=first_term * second_term\n",
    "        changes=np.array([[0.0],[0.0],[0.0]])\n",
    "        for k in range(3):\n",
    "            for j in range(4):\n",
    "                changes[k][0]+=firsttwoterms[j][0]*output0[j][0]\n",
    "                \n",
    "        weights=weights - lr * changes\n",
    "        \n",
    "    return weights\n",
    "        \n",
    "    \n",
    "    "
   ]
  },
  {
   "cell_type": "code",
   "execution_count": 120,
   "metadata": {},
   "outputs": [
    {
     "data": {
      "text/plain": [
       "(array([[-5.27422863],\n",
       "        [ 3.44309933],\n",
       "        [ 3.44305823]]), array([[0.00509581],\n",
       "        [0.1380989 ],\n",
       "        [0.1381038 ],\n",
       "        [0.83367902]]))"
      ]
     },
     "execution_count": 120,
     "metadata": {},
     "output_type": "execute_result"
    }
   ],
   "source": [
    "final_weights=train2(x,y,weights,0.2)\n",
    "final_weights , forward(x,final_weights)"
   ]
  },
  {
   "cell_type": "code",
   "execution_count": 118,
   "metadata": {},
   "outputs": [],
   "source": [
    "def train2(x,y,weights,lr):\n",
    "    for i in range(1000):\n",
    "        output0 = x\n",
    "        input_o=np.dot(output0,weights)\n",
    "        output1 = sigmoid(input_o)\n",
    "        \n",
    "        first_term=(output1-y)\n",
    "        second_term=derivsigmoid(input_o)\n",
    "        firsttwoterms=first_term * second_term\n",
    "        changes=np.array([[0.0],[0.0],[0.0]])\n",
    "        changes=np.dot(output0.T,firsttwoterms)\n",
    "                \n",
    "        weights=weights - lr * changes\n",
    "        \n",
    "    return weights\n",
    "        \n",
    "    \n",
    "    "
   ]
  },
  {
   "cell_type": "code",
   "execution_count": null,
   "metadata": {},
   "outputs": [],
   "source": []
  }
 ],
 "metadata": {
  "kernelspec": {
   "display_name": "Python 3",
   "language": "python",
   "name": "python3"
  },
  "language_info": {
   "codemirror_mode": {
    "name": "ipython",
    "version": 3
   },
   "file_extension": ".py",
   "mimetype": "text/x-python",
   "name": "python",
   "nbconvert_exporter": "python",
   "pygments_lexer": "ipython3",
   "version": "3.6.5"
  }
 },
 "nbformat": 4,
 "nbformat_minor": 2
}
