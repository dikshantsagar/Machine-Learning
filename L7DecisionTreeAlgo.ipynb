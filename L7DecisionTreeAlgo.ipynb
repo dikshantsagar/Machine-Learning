{
 "cells": [
  {
   "cell_type": "code",
   "execution_count": 3,
   "metadata": {},
   "outputs": [],
   "source": [
    "from sklearn import datasets\n",
    "import pandas as pd"
   ]
  },
  {
   "cell_type": "code",
   "execution_count": 4,
   "metadata": {},
   "outputs": [],
   "source": [
    "iris=datasets.load_iris()"
   ]
  },
  {
   "cell_type": "code",
   "execution_count": 5,
   "metadata": {},
   "outputs": [],
   "source": [
    "df=pd.DataFrame(iris.data)\n",
    "df.columns=['sl','sw','pl','pw']"
   ]
  },
  {
   "cell_type": "code",
   "execution_count": 6,
   "metadata": {},
   "outputs": [],
   "source": [
    "def abc(k):\n",
    "    if k<5:\n",
    "        return 0\n",
    "    else:\n",
    "        return 1"
   ]
  },
  {
   "cell_type": "code",
   "execution_count": 15,
   "metadata": {
    "scrolled": true
   },
   "outputs": [],
   "source": [
    "df.sw=df.sw.apply(abc)\n",
    "df.pl=df.pl.apply(abc)\n",
    "df.pw=df.pw.apply(abc)\n"
   ]
  },
  {
   "cell_type": "code",
   "execution_count": 8,
   "metadata": {
    "scrolled": true
   },
   "outputs": [],
   "source": [
    "def label(val, first, second, third):\n",
    "    if(val<first):\n",
    "        return 'a'\n",
    "    elif (val , second):\n",
    "        return 'b'\n",
    "    elif (val< third):\n",
    "        return 'c'\n",
    "    else:\n",
    "        return 'd'\n",
    "\n",
    "\n",
    "\n",
    "def tolabel(df, old_feature_name, new_feature_name):\n",
    "    second=df[old_feature_name].mean()\n",
    "    minimum=df[old_feature_name].min()\n",
    "    first=(minimum+second)/2\n",
    "    maximum=df[old_feature_name].max()\n",
    "    third=(maximum+second)\n",
    "    return df"
   ]
  },
  {
   "cell_type": "code",
   "execution_count": 9,
   "metadata": {},
   "outputs": [],
   "source": [
    "def build_tree(df, y, unused_features):\n",
    "        #base case\n",
    "        #1. unused is empty\n",
    "        #2. y contains only one distinct\n",
    "    \n",
    "    best_feature=''\n",
    "    for f in unused_features:\n",
    "        possible_values=set(df[f])\n",
    "        #loop over possible values : val\n",
    "        #find subset of df with f==val\n",
    "        #find number of mistakes in this subset if we predict the most common y as output\n",
    "        #find sum of all these mistakes\n",
    "        #update best_feature so that that particular feature makes least number of mistakes\n",
    "        \n",
    "    #here you should know the best feature\n",
    "    #print it out\n",
    "    print(\"Best Feature \", best_feature)\n",
    "    \n",
    "    #loop over possible values of best_feature\n",
    "    #call build tree recursuvely\n",
    "    "
   ]
  },
  {
   "cell_type": "code",
   "execution_count": null,
   "metadata": {},
   "outputs": [],
   "source": []
  }
 ],
 "metadata": {
  "kernelspec": {
   "display_name": "Python 3",
   "language": "python",
   "name": "python3"
  },
  "language_info": {
   "codemirror_mode": {
    "name": "ipython",
    "version": 3
   },
   "file_extension": ".py",
   "mimetype": "text/x-python",
   "name": "python",
   "nbconvert_exporter": "python",
   "pygments_lexer": "ipython3",
   "version": "3.6.5"
  }
 },
 "nbformat": 4,
 "nbformat_minor": 2
}
